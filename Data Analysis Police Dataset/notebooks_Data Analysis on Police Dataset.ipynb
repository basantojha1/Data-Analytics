{
  "metadata": {
    "language_info": {
      "codemirror_mode": {
        "name": "python",
        "version": 3
      },
      "file_extension": ".py",
      "mimetype": "text/x-python",
      "name": "python",
      "nbconvert_exporter": "python",
      "pygments_lexer": "ipython3",
      "version": "3.8"
    },
    "kernelspec": {
      "name": "python",
      "display_name": "Python (Pyodide)",
      "language": "python"
    }
  },
  "nbformat_minor": 4,
  "nbformat": 4,
  "cells": [
    {
      "cell_type": "code",
      "source": "%pip install seaborn",
      "metadata": {
        "trusted": true
      },
      "execution_count": 2,
      "outputs": []
    },
    {
      "cell_type": "code",
      "source": "import pandas as pd\nimport numpy as np\nimport seaborn as sns\nimport matplotlib.pyplot as plt\nimport warnings\nwarnings.filterwarnings('ignore')",
      "metadata": {
        "trusted": true
      },
      "execution_count": 3,
      "outputs": []
    },
    {
      "cell_type": "code",
      "source": "df = pd.read_csv('police_dataset.csv')",
      "metadata": {
        "trusted": true
      },
      "execution_count": 4,
      "outputs": []
    },
    {
      "cell_type": "code",
      "source": "df.head()",
      "metadata": {
        "trusted": true
      },
      "execution_count": 5,
      "outputs": [
        {
          "execution_count": 5,
          "output_type": "execute_result",
          "data": {
            "text/plain": "   stop_date stop_time  country_name driver_gender  driver_age_raw  \\\n0   1/2/2005      1:55           NaN             M          1985.0   \n1  1/18/2005      8:15           NaN             M          1965.0   \n2  1/23/2005     23:15           NaN             M          1972.0   \n3  2/20/2005     17:15           NaN             M          1986.0   \n4  3/14/2005     10:00           NaN             F          1984.0   \n\n   driver_age driver_race     violation_raw violation  search_conducted  \\\n0        20.0       White          Speeding  Speeding             False   \n1        40.0       White          Speeding  Speeding             False   \n2        33.0       White          Speeding  Speeding             False   \n3        19.0       White  Call for Service     Other             False   \n4        21.0       White          Speeding  Speeding             False   \n\n  search_type   stop_outcome is_arrested stop_duration  drugs_related_stop  \n0         NaN       Citation       False      0-15 Min               False  \n1         NaN       Citation       False      0-15 Min               False  \n2         NaN       Citation       False      0-15 Min               False  \n3         NaN  Arrest Driver        True     16-30 Min               False  \n4         NaN       Citation       False      0-15 Min               False  ",
            "text/html": "<div>\n<style scoped>\n    .dataframe tbody tr th:only-of-type {\n        vertical-align: middle;\n    }\n\n    .dataframe tbody tr th {\n        vertical-align: top;\n    }\n\n    .dataframe thead th {\n        text-align: right;\n    }\n</style>\n<table border=\"1\" class=\"dataframe\">\n  <thead>\n    <tr style=\"text-align: right;\">\n      <th></th>\n      <th>stop_date</th>\n      <th>stop_time</th>\n      <th>country_name</th>\n      <th>driver_gender</th>\n      <th>driver_age_raw</th>\n      <th>driver_age</th>\n      <th>driver_race</th>\n      <th>violation_raw</th>\n      <th>violation</th>\n      <th>search_conducted</th>\n      <th>search_type</th>\n      <th>stop_outcome</th>\n      <th>is_arrested</th>\n      <th>stop_duration</th>\n      <th>drugs_related_stop</th>\n    </tr>\n  </thead>\n  <tbody>\n    <tr>\n      <th>0</th>\n      <td>1/2/2005</td>\n      <td>1:55</td>\n      <td>NaN</td>\n      <td>M</td>\n      <td>1985.0</td>\n      <td>20.0</td>\n      <td>White</td>\n      <td>Speeding</td>\n      <td>Speeding</td>\n      <td>False</td>\n      <td>NaN</td>\n      <td>Citation</td>\n      <td>False</td>\n      <td>0-15 Min</td>\n      <td>False</td>\n    </tr>\n    <tr>\n      <th>1</th>\n      <td>1/18/2005</td>\n      <td>8:15</td>\n      <td>NaN</td>\n      <td>M</td>\n      <td>1965.0</td>\n      <td>40.0</td>\n      <td>White</td>\n      <td>Speeding</td>\n      <td>Speeding</td>\n      <td>False</td>\n      <td>NaN</td>\n      <td>Citation</td>\n      <td>False</td>\n      <td>0-15 Min</td>\n      <td>False</td>\n    </tr>\n    <tr>\n      <th>2</th>\n      <td>1/23/2005</td>\n      <td>23:15</td>\n      <td>NaN</td>\n      <td>M</td>\n      <td>1972.0</td>\n      <td>33.0</td>\n      <td>White</td>\n      <td>Speeding</td>\n      <td>Speeding</td>\n      <td>False</td>\n      <td>NaN</td>\n      <td>Citation</td>\n      <td>False</td>\n      <td>0-15 Min</td>\n      <td>False</td>\n    </tr>\n    <tr>\n      <th>3</th>\n      <td>2/20/2005</td>\n      <td>17:15</td>\n      <td>NaN</td>\n      <td>M</td>\n      <td>1986.0</td>\n      <td>19.0</td>\n      <td>White</td>\n      <td>Call for Service</td>\n      <td>Other</td>\n      <td>False</td>\n      <td>NaN</td>\n      <td>Arrest Driver</td>\n      <td>True</td>\n      <td>16-30 Min</td>\n      <td>False</td>\n    </tr>\n    <tr>\n      <th>4</th>\n      <td>3/14/2005</td>\n      <td>10:00</td>\n      <td>NaN</td>\n      <td>F</td>\n      <td>1984.0</td>\n      <td>21.0</td>\n      <td>White</td>\n      <td>Speeding</td>\n      <td>Speeding</td>\n      <td>False</td>\n      <td>NaN</td>\n      <td>Citation</td>\n      <td>False</td>\n      <td>0-15 Min</td>\n      <td>False</td>\n    </tr>\n  </tbody>\n</table>\n</div>"
          },
          "metadata": {}
        }
      ]
    },
    {
      "cell_type": "code",
      "source": "# For importing SQL database\n'''\nfrom sqlalchemy import create_engine\n\nengine = create_engine('')\ndf = pd.read_sql('table_name', con=engine)\n'''",
      "metadata": {
        "trusted": true
      },
      "execution_count": 7,
      "outputs": [
        {
          "execution_count": 7,
          "output_type": "execute_result",
          "data": {
            "text/plain": "\"\\nfrom sqlalchemy import create_engine\\n\\nengine = create_engine('')\\ndf = pd.read_sql('table_name', con=engine)\\n\""
          },
          "metadata": {}
        }
      ]
    },
    {
      "cell_type": "code",
      "source": "df.tail()",
      "metadata": {
        "trusted": true
      },
      "execution_count": 8,
      "outputs": [
        {
          "execution_count": 8,
          "output_type": "execute_result",
          "data": {
            "text/plain": "       stop_date stop_time  country_name driver_gender  driver_age_raw  \\\n65530  12/6/2012     17:54           NaN             F          1987.0   \n65531  12/6/2012     22:22           NaN             M          1954.0   \n65532  12/6/2012     23:20           NaN             M          1985.0   \n65533  12/7/2012      0:23           NaN           NaN             NaN   \n65534  12/7/2012      0:30           NaN             F          1985.0   \n\n       driver_age driver_race                   violation_raw  violation  \\\n65530        25.0       White                        Speeding   Speeding   \n65531        58.0       White                        Speeding   Speeding   \n65532        27.0       Black  Equipment/Inspection Violation  Equipment   \n65533         NaN         NaN                             NaN        NaN   \n65534        27.0       White                        Speeding   Speeding   \n\n       search_conducted search_type stop_outcome is_arrested stop_duration  \\\n65530             False         NaN     Citation       False      0-15 Min   \n65531             False         NaN      Warning       False      0-15 Min   \n65532             False         NaN     Citation       False      0-15 Min   \n65533             False         NaN          NaN         NaN           NaN   \n65534             False         NaN     Citation       False      0-15 Min   \n\n       drugs_related_stop  \n65530               False  \n65531               False  \n65532               False  \n65533               False  \n65534               False  ",
            "text/html": "<div>\n<style scoped>\n    .dataframe tbody tr th:only-of-type {\n        vertical-align: middle;\n    }\n\n    .dataframe tbody tr th {\n        vertical-align: top;\n    }\n\n    .dataframe thead th {\n        text-align: right;\n    }\n</style>\n<table border=\"1\" class=\"dataframe\">\n  <thead>\n    <tr style=\"text-align: right;\">\n      <th></th>\n      <th>stop_date</th>\n      <th>stop_time</th>\n      <th>country_name</th>\n      <th>driver_gender</th>\n      <th>driver_age_raw</th>\n      <th>driver_age</th>\n      <th>driver_race</th>\n      <th>violation_raw</th>\n      <th>violation</th>\n      <th>search_conducted</th>\n      <th>search_type</th>\n      <th>stop_outcome</th>\n      <th>is_arrested</th>\n      <th>stop_duration</th>\n      <th>drugs_related_stop</th>\n    </tr>\n  </thead>\n  <tbody>\n    <tr>\n      <th>65530</th>\n      <td>12/6/2012</td>\n      <td>17:54</td>\n      <td>NaN</td>\n      <td>F</td>\n      <td>1987.0</td>\n      <td>25.0</td>\n      <td>White</td>\n      <td>Speeding</td>\n      <td>Speeding</td>\n      <td>False</td>\n      <td>NaN</td>\n      <td>Citation</td>\n      <td>False</td>\n      <td>0-15 Min</td>\n      <td>False</td>\n    </tr>\n    <tr>\n      <th>65531</th>\n      <td>12/6/2012</td>\n      <td>22:22</td>\n      <td>NaN</td>\n      <td>M</td>\n      <td>1954.0</td>\n      <td>58.0</td>\n      <td>White</td>\n      <td>Speeding</td>\n      <td>Speeding</td>\n      <td>False</td>\n      <td>NaN</td>\n      <td>Warning</td>\n      <td>False</td>\n      <td>0-15 Min</td>\n      <td>False</td>\n    </tr>\n    <tr>\n      <th>65532</th>\n      <td>12/6/2012</td>\n      <td>23:20</td>\n      <td>NaN</td>\n      <td>M</td>\n      <td>1985.0</td>\n      <td>27.0</td>\n      <td>Black</td>\n      <td>Equipment/Inspection Violation</td>\n      <td>Equipment</td>\n      <td>False</td>\n      <td>NaN</td>\n      <td>Citation</td>\n      <td>False</td>\n      <td>0-15 Min</td>\n      <td>False</td>\n    </tr>\n    <tr>\n      <th>65533</th>\n      <td>12/7/2012</td>\n      <td>0:23</td>\n      <td>NaN</td>\n      <td>NaN</td>\n      <td>NaN</td>\n      <td>NaN</td>\n      <td>NaN</td>\n      <td>NaN</td>\n      <td>NaN</td>\n      <td>False</td>\n      <td>NaN</td>\n      <td>NaN</td>\n      <td>NaN</td>\n      <td>NaN</td>\n      <td>False</td>\n    </tr>\n    <tr>\n      <th>65534</th>\n      <td>12/7/2012</td>\n      <td>0:30</td>\n      <td>NaN</td>\n      <td>F</td>\n      <td>1985.0</td>\n      <td>27.0</td>\n      <td>White</td>\n      <td>Speeding</td>\n      <td>Speeding</td>\n      <td>False</td>\n      <td>NaN</td>\n      <td>Citation</td>\n      <td>False</td>\n      <td>0-15 Min</td>\n      <td>False</td>\n    </tr>\n  </tbody>\n</table>\n</div>"
          },
          "metadata": {}
        }
      ]
    },
    {
      "cell_type": "code",
      "source": "df.info()",
      "metadata": {
        "trusted": true
      },
      "execution_count": 9,
      "outputs": [
        {
          "name": "stdout",
          "text": "<class 'pandas.core.frame.DataFrame'>\nRangeIndex: 65535 entries, 0 to 65534\nData columns (total 15 columns):\n #   Column              Non-Null Count  Dtype  \n---  ------              --------------  -----  \n 0   stop_date           65535 non-null  object \n 1   stop_time           65535 non-null  object \n 2   country_name        0 non-null      float64\n 3   driver_gender       61474 non-null  object \n 4   driver_age_raw      61481 non-null  float64\n 5   driver_age          61228 non-null  float64\n 6   driver_race         61475 non-null  object \n 7   violation_raw       61475 non-null  object \n 8   violation           61475 non-null  object \n 9   search_conducted    65535 non-null  bool   \n 10  search_type         2479 non-null   object \n 11  stop_outcome        61475 non-null  object \n 12  is_arrested         61475 non-null  object \n 13  stop_duration       61475 non-null  object \n 14  drugs_related_stop  65535 non-null  bool   \ndtypes: bool(2), float64(3), object(10)\nmemory usage: 4.1+ MB\n",
          "output_type": "stream"
        }
      ]
    },
    {
      "cell_type": "code",
      "source": "df.isnull().mean()*100",
      "metadata": {
        "trusted": true
      },
      "execution_count": 12,
      "outputs": [
        {
          "execution_count": 12,
          "output_type": "execute_result",
          "data": {
            "text/plain": "stop_date               0.000000\nstop_time               0.000000\ncountry_name          100.000000\ndriver_gender           6.196689\ndriver_age_raw          6.186007\ndriver_age              6.572061\ndriver_race             6.195163\nviolation_raw           6.195163\nviolation               6.195163\nsearch_conducted        0.000000\nsearch_type            96.217288\nstop_outcome            6.195163\nis_arrested             6.195163\nstop_duration           6.195163\ndrugs_related_stop      0.000000\ndtype: float64"
          },
          "metadata": {}
        }
      ]
    },
    {
      "cell_type": "code",
      "source": "df.drop(columns = 'country_name', inplace=True)",
      "metadata": {
        "trusted": true
      },
      "execution_count": 21,
      "outputs": []
    },
    {
      "cell_type": "code",
      "source": "df.drop(columns = 'search_type', inplace=True)",
      "metadata": {
        "trusted": true
      },
      "execution_count": 22,
      "outputs": []
    },
    {
      "cell_type": "code",
      "source": "df.head()",
      "metadata": {
        "trusted": true
      },
      "execution_count": 24,
      "outputs": [
        {
          "execution_count": 24,
          "output_type": "execute_result",
          "data": {
            "text/plain": "   stop_date stop_time driver_gender  driver_age_raw  driver_age driver_race  \\\n0   1/2/2005      1:55             M          1985.0        20.0       White   \n1  1/18/2005      8:15             M          1965.0        40.0       White   \n2  1/23/2005     23:15             M          1972.0        33.0       White   \n3  2/20/2005     17:15             M          1986.0        19.0       White   \n4  3/14/2005     10:00             F          1984.0        21.0       White   \n\n      violation_raw violation  search_conducted   stop_outcome is_arrested  \\\n0          Speeding  Speeding             False       Citation       False   \n1          Speeding  Speeding             False       Citation       False   \n2          Speeding  Speeding             False       Citation       False   \n3  Call for Service     Other             False  Arrest Driver        True   \n4          Speeding  Speeding             False       Citation       False   \n\n  stop_duration  drugs_related_stop  \n0      0-15 Min               False  \n1      0-15 Min               False  \n2      0-15 Min               False  \n3     16-30 Min               False  \n4      0-15 Min               False  ",
            "text/html": "<div>\n<style scoped>\n    .dataframe tbody tr th:only-of-type {\n        vertical-align: middle;\n    }\n\n    .dataframe tbody tr th {\n        vertical-align: top;\n    }\n\n    .dataframe thead th {\n        text-align: right;\n    }\n</style>\n<table border=\"1\" class=\"dataframe\">\n  <thead>\n    <tr style=\"text-align: right;\">\n      <th></th>\n      <th>stop_date</th>\n      <th>stop_time</th>\n      <th>driver_gender</th>\n      <th>driver_age_raw</th>\n      <th>driver_age</th>\n      <th>driver_race</th>\n      <th>violation_raw</th>\n      <th>violation</th>\n      <th>search_conducted</th>\n      <th>stop_outcome</th>\n      <th>is_arrested</th>\n      <th>stop_duration</th>\n      <th>drugs_related_stop</th>\n    </tr>\n  </thead>\n  <tbody>\n    <tr>\n      <th>0</th>\n      <td>1/2/2005</td>\n      <td>1:55</td>\n      <td>M</td>\n      <td>1985.0</td>\n      <td>20.0</td>\n      <td>White</td>\n      <td>Speeding</td>\n      <td>Speeding</td>\n      <td>False</td>\n      <td>Citation</td>\n      <td>False</td>\n      <td>0-15 Min</td>\n      <td>False</td>\n    </tr>\n    <tr>\n      <th>1</th>\n      <td>1/18/2005</td>\n      <td>8:15</td>\n      <td>M</td>\n      <td>1965.0</td>\n      <td>40.0</td>\n      <td>White</td>\n      <td>Speeding</td>\n      <td>Speeding</td>\n      <td>False</td>\n      <td>Citation</td>\n      <td>False</td>\n      <td>0-15 Min</td>\n      <td>False</td>\n    </tr>\n    <tr>\n      <th>2</th>\n      <td>1/23/2005</td>\n      <td>23:15</td>\n      <td>M</td>\n      <td>1972.0</td>\n      <td>33.0</td>\n      <td>White</td>\n      <td>Speeding</td>\n      <td>Speeding</td>\n      <td>False</td>\n      <td>Citation</td>\n      <td>False</td>\n      <td>0-15 Min</td>\n      <td>False</td>\n    </tr>\n    <tr>\n      <th>3</th>\n      <td>2/20/2005</td>\n      <td>17:15</td>\n      <td>M</td>\n      <td>1986.0</td>\n      <td>19.0</td>\n      <td>White</td>\n      <td>Call for Service</td>\n      <td>Other</td>\n      <td>False</td>\n      <td>Arrest Driver</td>\n      <td>True</td>\n      <td>16-30 Min</td>\n      <td>False</td>\n    </tr>\n    <tr>\n      <th>4</th>\n      <td>3/14/2005</td>\n      <td>10:00</td>\n      <td>F</td>\n      <td>1984.0</td>\n      <td>21.0</td>\n      <td>White</td>\n      <td>Speeding</td>\n      <td>Speeding</td>\n      <td>False</td>\n      <td>Citation</td>\n      <td>False</td>\n      <td>0-15 Min</td>\n      <td>False</td>\n    </tr>\n  </tbody>\n</table>\n</div>"
          },
          "metadata": {}
        }
      ]
    },
    {
      "cell_type": "code",
      "source": "# For speeding, were male or female stopped more often>\ndf.head()",
      "metadata": {
        "trusted": true
      },
      "execution_count": 25,
      "outputs": [
        {
          "execution_count": 25,
          "output_type": "execute_result",
          "data": {
            "text/plain": "   stop_date stop_time driver_gender  driver_age_raw  driver_age driver_race  \\\n0   1/2/2005      1:55             M          1985.0        20.0       White   \n1  1/18/2005      8:15             M          1965.0        40.0       White   \n2  1/23/2005     23:15             M          1972.0        33.0       White   \n3  2/20/2005     17:15             M          1986.0        19.0       White   \n4  3/14/2005     10:00             F          1984.0        21.0       White   \n\n      violation_raw violation  search_conducted   stop_outcome is_arrested  \\\n0          Speeding  Speeding             False       Citation       False   \n1          Speeding  Speeding             False       Citation       False   \n2          Speeding  Speeding             False       Citation       False   \n3  Call for Service     Other             False  Arrest Driver        True   \n4          Speeding  Speeding             False       Citation       False   \n\n  stop_duration  drugs_related_stop  \n0      0-15 Min               False  \n1      0-15 Min               False  \n2      0-15 Min               False  \n3     16-30 Min               False  \n4      0-15 Min               False  ",
            "text/html": "<div>\n<style scoped>\n    .dataframe tbody tr th:only-of-type {\n        vertical-align: middle;\n    }\n\n    .dataframe tbody tr th {\n        vertical-align: top;\n    }\n\n    .dataframe thead th {\n        text-align: right;\n    }\n</style>\n<table border=\"1\" class=\"dataframe\">\n  <thead>\n    <tr style=\"text-align: right;\">\n      <th></th>\n      <th>stop_date</th>\n      <th>stop_time</th>\n      <th>driver_gender</th>\n      <th>driver_age_raw</th>\n      <th>driver_age</th>\n      <th>driver_race</th>\n      <th>violation_raw</th>\n      <th>violation</th>\n      <th>search_conducted</th>\n      <th>stop_outcome</th>\n      <th>is_arrested</th>\n      <th>stop_duration</th>\n      <th>drugs_related_stop</th>\n    </tr>\n  </thead>\n  <tbody>\n    <tr>\n      <th>0</th>\n      <td>1/2/2005</td>\n      <td>1:55</td>\n      <td>M</td>\n      <td>1985.0</td>\n      <td>20.0</td>\n      <td>White</td>\n      <td>Speeding</td>\n      <td>Speeding</td>\n      <td>False</td>\n      <td>Citation</td>\n      <td>False</td>\n      <td>0-15 Min</td>\n      <td>False</td>\n    </tr>\n    <tr>\n      <th>1</th>\n      <td>1/18/2005</td>\n      <td>8:15</td>\n      <td>M</td>\n      <td>1965.0</td>\n      <td>40.0</td>\n      <td>White</td>\n      <td>Speeding</td>\n      <td>Speeding</td>\n      <td>False</td>\n      <td>Citation</td>\n      <td>False</td>\n      <td>0-15 Min</td>\n      <td>False</td>\n    </tr>\n    <tr>\n      <th>2</th>\n      <td>1/23/2005</td>\n      <td>23:15</td>\n      <td>M</td>\n      <td>1972.0</td>\n      <td>33.0</td>\n      <td>White</td>\n      <td>Speeding</td>\n      <td>Speeding</td>\n      <td>False</td>\n      <td>Citation</td>\n      <td>False</td>\n      <td>0-15 Min</td>\n      <td>False</td>\n    </tr>\n    <tr>\n      <th>3</th>\n      <td>2/20/2005</td>\n      <td>17:15</td>\n      <td>M</td>\n      <td>1986.0</td>\n      <td>19.0</td>\n      <td>White</td>\n      <td>Call for Service</td>\n      <td>Other</td>\n      <td>False</td>\n      <td>Arrest Driver</td>\n      <td>True</td>\n      <td>16-30 Min</td>\n      <td>False</td>\n    </tr>\n    <tr>\n      <th>4</th>\n      <td>3/14/2005</td>\n      <td>10:00</td>\n      <td>F</td>\n      <td>1984.0</td>\n      <td>21.0</td>\n      <td>White</td>\n      <td>Speeding</td>\n      <td>Speeding</td>\n      <td>False</td>\n      <td>Citation</td>\n      <td>False</td>\n      <td>0-15 Min</td>\n      <td>False</td>\n    </tr>\n  </tbody>\n</table>\n</div>"
          },
          "metadata": {}
        }
      ]
    },
    {
      "cell_type": "code",
      "source": "df[df.violation == 'Speeding'].driver_gender.value_counts()",
      "metadata": {
        "trusted": true
      },
      "execution_count": 31,
      "outputs": [
        {
          "execution_count": 31,
          "output_type": "execute_result",
          "data": {
            "text/plain": "M    25517\nF    11686\nName: driver_gender, dtype: int64"
          },
          "metadata": {}
        }
      ]
    },
    {
      "cell_type": "code",
      "source": "# Does Gender affect who gets searched during stop?\ndf.groupby('driver_gender').search_conducted.sum()",
      "metadata": {
        "trusted": true
      },
      "execution_count": 34,
      "outputs": [
        {
          "execution_count": 34,
          "output_type": "execute_result",
          "data": {
            "text/plain": "driver_gender\nF     366\nM    2113\nName: search_conducted, dtype: int64"
          },
          "metadata": {}
        }
      ]
    },
    {
      "cell_type": "code",
      "source": "df.search_conducted.value_counts()",
      "metadata": {
        "trusted": true
      },
      "execution_count": 36,
      "outputs": [
        {
          "execution_count": 36,
          "output_type": "execute_result",
          "data": {
            "text/plain": "False    63056\nTrue      2479\nName: search_conducted, dtype: int64"
          },
          "metadata": {}
        }
      ]
    },
    {
      "cell_type": "code",
      "source": "# What is the mean stop_duration\ndf.head()",
      "metadata": {
        "trusted": true
      },
      "execution_count": 37,
      "outputs": [
        {
          "execution_count": 37,
          "output_type": "execute_result",
          "data": {
            "text/plain": "   stop_date stop_time driver_gender  driver_age_raw  driver_age driver_race  \\\n0   1/2/2005      1:55             M          1985.0        20.0       White   \n1  1/18/2005      8:15             M          1965.0        40.0       White   \n2  1/23/2005     23:15             M          1972.0        33.0       White   \n3  2/20/2005     17:15             M          1986.0        19.0       White   \n4  3/14/2005     10:00             F          1984.0        21.0       White   \n\n      violation_raw violation  search_conducted   stop_outcome is_arrested  \\\n0          Speeding  Speeding             False       Citation       False   \n1          Speeding  Speeding             False       Citation       False   \n2          Speeding  Speeding             False       Citation       False   \n3  Call for Service     Other             False  Arrest Driver        True   \n4          Speeding  Speeding             False       Citation       False   \n\n  stop_duration  drugs_related_stop  \n0      0-15 Min               False  \n1      0-15 Min               False  \n2      0-15 Min               False  \n3     16-30 Min               False  \n4      0-15 Min               False  ",
            "text/html": "<div>\n<style scoped>\n    .dataframe tbody tr th:only-of-type {\n        vertical-align: middle;\n    }\n\n    .dataframe tbody tr th {\n        vertical-align: top;\n    }\n\n    .dataframe thead th {\n        text-align: right;\n    }\n</style>\n<table border=\"1\" class=\"dataframe\">\n  <thead>\n    <tr style=\"text-align: right;\">\n      <th></th>\n      <th>stop_date</th>\n      <th>stop_time</th>\n      <th>driver_gender</th>\n      <th>driver_age_raw</th>\n      <th>driver_age</th>\n      <th>driver_race</th>\n      <th>violation_raw</th>\n      <th>violation</th>\n      <th>search_conducted</th>\n      <th>stop_outcome</th>\n      <th>is_arrested</th>\n      <th>stop_duration</th>\n      <th>drugs_related_stop</th>\n    </tr>\n  </thead>\n  <tbody>\n    <tr>\n      <th>0</th>\n      <td>1/2/2005</td>\n      <td>1:55</td>\n      <td>M</td>\n      <td>1985.0</td>\n      <td>20.0</td>\n      <td>White</td>\n      <td>Speeding</td>\n      <td>Speeding</td>\n      <td>False</td>\n      <td>Citation</td>\n      <td>False</td>\n      <td>0-15 Min</td>\n      <td>False</td>\n    </tr>\n    <tr>\n      <th>1</th>\n      <td>1/18/2005</td>\n      <td>8:15</td>\n      <td>M</td>\n      <td>1965.0</td>\n      <td>40.0</td>\n      <td>White</td>\n      <td>Speeding</td>\n      <td>Speeding</td>\n      <td>False</td>\n      <td>Citation</td>\n      <td>False</td>\n      <td>0-15 Min</td>\n      <td>False</td>\n    </tr>\n    <tr>\n      <th>2</th>\n      <td>1/23/2005</td>\n      <td>23:15</td>\n      <td>M</td>\n      <td>1972.0</td>\n      <td>33.0</td>\n      <td>White</td>\n      <td>Speeding</td>\n      <td>Speeding</td>\n      <td>False</td>\n      <td>Citation</td>\n      <td>False</td>\n      <td>0-15 Min</td>\n      <td>False</td>\n    </tr>\n    <tr>\n      <th>3</th>\n      <td>2/20/2005</td>\n      <td>17:15</td>\n      <td>M</td>\n      <td>1986.0</td>\n      <td>19.0</td>\n      <td>White</td>\n      <td>Call for Service</td>\n      <td>Other</td>\n      <td>False</td>\n      <td>Arrest Driver</td>\n      <td>True</td>\n      <td>16-30 Min</td>\n      <td>False</td>\n    </tr>\n    <tr>\n      <th>4</th>\n      <td>3/14/2005</td>\n      <td>10:00</td>\n      <td>F</td>\n      <td>1984.0</td>\n      <td>21.0</td>\n      <td>White</td>\n      <td>Speeding</td>\n      <td>Speeding</td>\n      <td>False</td>\n      <td>Citation</td>\n      <td>False</td>\n      <td>0-15 Min</td>\n      <td>False</td>\n    </tr>\n  </tbody>\n</table>\n</div>"
          },
          "metadata": {}
        }
      ]
    },
    {
      "cell_type": "code",
      "source": "df.stop_duration.value_counts()",
      "metadata": {
        "trusted": true
      },
      "execution_count": 39,
      "outputs": [
        {
          "execution_count": 39,
          "output_type": "execute_result",
          "data": {
            "text/plain": "0-15 Min     47379\n16-30 Min    11448\n30+ Min       2647\n2                1\nName: stop_duration, dtype: int64"
          },
          "metadata": {}
        }
      ]
    },
    {
      "cell_type": "code",
      "source": "# Converting the old value with new value using map function\ndf['stop_duration'] = df['stop_duration'].map({'0-15 Min': 7.5, '16-30 Min': 24,'30+ Min': 45})",
      "metadata": {
        "trusted": true
      },
      "execution_count": 40,
      "outputs": []
    },
    {
      "cell_type": "code",
      "source": "df.head()",
      "metadata": {
        "trusted": true
      },
      "execution_count": 41,
      "outputs": [
        {
          "execution_count": 41,
          "output_type": "execute_result",
          "data": {
            "text/plain": "   stop_date stop_time driver_gender  driver_age_raw  driver_age driver_race  \\\n0   1/2/2005      1:55             M          1985.0        20.0       White   \n1  1/18/2005      8:15             M          1965.0        40.0       White   \n2  1/23/2005     23:15             M          1972.0        33.0       White   \n3  2/20/2005     17:15             M          1986.0        19.0       White   \n4  3/14/2005     10:00             F          1984.0        21.0       White   \n\n      violation_raw violation  search_conducted   stop_outcome is_arrested  \\\n0          Speeding  Speeding             False       Citation       False   \n1          Speeding  Speeding             False       Citation       False   \n2          Speeding  Speeding             False       Citation       False   \n3  Call for Service     Other             False  Arrest Driver        True   \n4          Speeding  Speeding             False       Citation       False   \n\n   stop_duration  drugs_related_stop  \n0            7.5               False  \n1            7.5               False  \n2            7.5               False  \n3           24.0               False  \n4            7.5               False  ",
            "text/html": "<div>\n<style scoped>\n    .dataframe tbody tr th:only-of-type {\n        vertical-align: middle;\n    }\n\n    .dataframe tbody tr th {\n        vertical-align: top;\n    }\n\n    .dataframe thead th {\n        text-align: right;\n    }\n</style>\n<table border=\"1\" class=\"dataframe\">\n  <thead>\n    <tr style=\"text-align: right;\">\n      <th></th>\n      <th>stop_date</th>\n      <th>stop_time</th>\n      <th>driver_gender</th>\n      <th>driver_age_raw</th>\n      <th>driver_age</th>\n      <th>driver_race</th>\n      <th>violation_raw</th>\n      <th>violation</th>\n      <th>search_conducted</th>\n      <th>stop_outcome</th>\n      <th>is_arrested</th>\n      <th>stop_duration</th>\n      <th>drugs_related_stop</th>\n    </tr>\n  </thead>\n  <tbody>\n    <tr>\n      <th>0</th>\n      <td>1/2/2005</td>\n      <td>1:55</td>\n      <td>M</td>\n      <td>1985.0</td>\n      <td>20.0</td>\n      <td>White</td>\n      <td>Speeding</td>\n      <td>Speeding</td>\n      <td>False</td>\n      <td>Citation</td>\n      <td>False</td>\n      <td>7.5</td>\n      <td>False</td>\n    </tr>\n    <tr>\n      <th>1</th>\n      <td>1/18/2005</td>\n      <td>8:15</td>\n      <td>M</td>\n      <td>1965.0</td>\n      <td>40.0</td>\n      <td>White</td>\n      <td>Speeding</td>\n      <td>Speeding</td>\n      <td>False</td>\n      <td>Citation</td>\n      <td>False</td>\n      <td>7.5</td>\n      <td>False</td>\n    </tr>\n    <tr>\n      <th>2</th>\n      <td>1/23/2005</td>\n      <td>23:15</td>\n      <td>M</td>\n      <td>1972.0</td>\n      <td>33.0</td>\n      <td>White</td>\n      <td>Speeding</td>\n      <td>Speeding</td>\n      <td>False</td>\n      <td>Citation</td>\n      <td>False</td>\n      <td>7.5</td>\n      <td>False</td>\n    </tr>\n    <tr>\n      <th>3</th>\n      <td>2/20/2005</td>\n      <td>17:15</td>\n      <td>M</td>\n      <td>1986.0</td>\n      <td>19.0</td>\n      <td>White</td>\n      <td>Call for Service</td>\n      <td>Other</td>\n      <td>False</td>\n      <td>Arrest Driver</td>\n      <td>True</td>\n      <td>24.0</td>\n      <td>False</td>\n    </tr>\n    <tr>\n      <th>4</th>\n      <td>3/14/2005</td>\n      <td>10:00</td>\n      <td>F</td>\n      <td>1984.0</td>\n      <td>21.0</td>\n      <td>White</td>\n      <td>Speeding</td>\n      <td>Speeding</td>\n      <td>False</td>\n      <td>Citation</td>\n      <td>False</td>\n      <td>7.5</td>\n      <td>False</td>\n    </tr>\n  </tbody>\n</table>\n</div>"
          },
          "metadata": {}
        }
      ]
    },
    {
      "cell_type": "code",
      "source": "# Checking mean\ndf['stop_duration'].mean()",
      "metadata": {
        "trusted": true
      },
      "execution_count": 42,
      "outputs": [
        {
          "execution_count": 42,
          "output_type": "execute_result",
          "data": {
            "text/plain": "12.187420698181345"
          },
          "metadata": {}
        }
      ]
    },
    {
      "cell_type": "code",
      "source": "# Comparing age distribution for each column\ndf.head()",
      "metadata": {
        "trusted": true
      },
      "execution_count": 44,
      "outputs": [
        {
          "execution_count": 44,
          "output_type": "execute_result",
          "data": {
            "text/plain": "   stop_date stop_time driver_gender  driver_age_raw  driver_age driver_race  \\\n0   1/2/2005      1:55             M          1985.0        20.0       White   \n1  1/18/2005      8:15             M          1965.0        40.0       White   \n2  1/23/2005     23:15             M          1972.0        33.0       White   \n3  2/20/2005     17:15             M          1986.0        19.0       White   \n4  3/14/2005     10:00             F          1984.0        21.0       White   \n\n      violation_raw violation  search_conducted   stop_outcome is_arrested  \\\n0          Speeding  Speeding             False       Citation       False   \n1          Speeding  Speeding             False       Citation       False   \n2          Speeding  Speeding             False       Citation       False   \n3  Call for Service     Other             False  Arrest Driver        True   \n4          Speeding  Speeding             False       Citation       False   \n\n   stop_duration  drugs_related_stop  \n0            7.5               False  \n1            7.5               False  \n2            7.5               False  \n3           24.0               False  \n4            7.5               False  ",
            "text/html": "<div>\n<style scoped>\n    .dataframe tbody tr th:only-of-type {\n        vertical-align: middle;\n    }\n\n    .dataframe tbody tr th {\n        vertical-align: top;\n    }\n\n    .dataframe thead th {\n        text-align: right;\n    }\n</style>\n<table border=\"1\" class=\"dataframe\">\n  <thead>\n    <tr style=\"text-align: right;\">\n      <th></th>\n      <th>stop_date</th>\n      <th>stop_time</th>\n      <th>driver_gender</th>\n      <th>driver_age_raw</th>\n      <th>driver_age</th>\n      <th>driver_race</th>\n      <th>violation_raw</th>\n      <th>violation</th>\n      <th>search_conducted</th>\n      <th>stop_outcome</th>\n      <th>is_arrested</th>\n      <th>stop_duration</th>\n      <th>drugs_related_stop</th>\n    </tr>\n  </thead>\n  <tbody>\n    <tr>\n      <th>0</th>\n      <td>1/2/2005</td>\n      <td>1:55</td>\n      <td>M</td>\n      <td>1985.0</td>\n      <td>20.0</td>\n      <td>White</td>\n      <td>Speeding</td>\n      <td>Speeding</td>\n      <td>False</td>\n      <td>Citation</td>\n      <td>False</td>\n      <td>7.5</td>\n      <td>False</td>\n    </tr>\n    <tr>\n      <th>1</th>\n      <td>1/18/2005</td>\n      <td>8:15</td>\n      <td>M</td>\n      <td>1965.0</td>\n      <td>40.0</td>\n      <td>White</td>\n      <td>Speeding</td>\n      <td>Speeding</td>\n      <td>False</td>\n      <td>Citation</td>\n      <td>False</td>\n      <td>7.5</td>\n      <td>False</td>\n    </tr>\n    <tr>\n      <th>2</th>\n      <td>1/23/2005</td>\n      <td>23:15</td>\n      <td>M</td>\n      <td>1972.0</td>\n      <td>33.0</td>\n      <td>White</td>\n      <td>Speeding</td>\n      <td>Speeding</td>\n      <td>False</td>\n      <td>Citation</td>\n      <td>False</td>\n      <td>7.5</td>\n      <td>False</td>\n    </tr>\n    <tr>\n      <th>3</th>\n      <td>2/20/2005</td>\n      <td>17:15</td>\n      <td>M</td>\n      <td>1986.0</td>\n      <td>19.0</td>\n      <td>White</td>\n      <td>Call for Service</td>\n      <td>Other</td>\n      <td>False</td>\n      <td>Arrest Driver</td>\n      <td>True</td>\n      <td>24.0</td>\n      <td>False</td>\n    </tr>\n    <tr>\n      <th>4</th>\n      <td>3/14/2005</td>\n      <td>10:00</td>\n      <td>F</td>\n      <td>1984.0</td>\n      <td>21.0</td>\n      <td>White</td>\n      <td>Speeding</td>\n      <td>Speeding</td>\n      <td>False</td>\n      <td>Citation</td>\n      <td>False</td>\n      <td>7.5</td>\n      <td>False</td>\n    </tr>\n  </tbody>\n</table>\n</div>"
          },
          "metadata": {}
        }
      ]
    },
    {
      "cell_type": "code",
      "source": "df.groupby('violation').driver_age.describe()",
      "metadata": {
        "trusted": true
      },
      "execution_count": 46,
      "outputs": [
        {
          "execution_count": 46,
          "output_type": "execute_result",
          "data": {
            "text/plain": "                       count       mean        std   min   25%   50%   75%  \\\nviolation                                                                    \nEquipment             6507.0  31.682957  11.380671  16.0  23.0  28.0  39.0   \nMoving violation     11876.0  36.736443  13.258350  15.0  25.0  35.0  47.0   \nOther                 3477.0  40.362381  12.754423  16.0  30.0  41.0  50.0   \nRegistration/plates   2240.0  32.656696  11.150780  16.0  24.0  30.0  40.0   \nSeat belt                3.0  30.333333  10.214369  23.0  24.5  26.0  34.0   \nSpeeding             37120.0  33.262581  12.615781  15.0  23.0  30.0  42.0   \n\n                      max  \nviolation                  \nEquipment            81.0  \nMoving violation     86.0  \nOther                86.0  \nRegistration/plates  74.0  \nSeat belt            42.0  \nSpeeding             88.0  ",
            "text/html": "<div>\n<style scoped>\n    .dataframe tbody tr th:only-of-type {\n        vertical-align: middle;\n    }\n\n    .dataframe tbody tr th {\n        vertical-align: top;\n    }\n\n    .dataframe thead th {\n        text-align: right;\n    }\n</style>\n<table border=\"1\" class=\"dataframe\">\n  <thead>\n    <tr style=\"text-align: right;\">\n      <th></th>\n      <th>count</th>\n      <th>mean</th>\n      <th>std</th>\n      <th>min</th>\n      <th>25%</th>\n      <th>50%</th>\n      <th>75%</th>\n      <th>max</th>\n    </tr>\n    <tr>\n      <th>violation</th>\n      <th></th>\n      <th></th>\n      <th></th>\n      <th></th>\n      <th></th>\n      <th></th>\n      <th></th>\n      <th></th>\n    </tr>\n  </thead>\n  <tbody>\n    <tr>\n      <th>Equipment</th>\n      <td>6507.0</td>\n      <td>31.682957</td>\n      <td>11.380671</td>\n      <td>16.0</td>\n      <td>23.0</td>\n      <td>28.0</td>\n      <td>39.0</td>\n      <td>81.0</td>\n    </tr>\n    <tr>\n      <th>Moving violation</th>\n      <td>11876.0</td>\n      <td>36.736443</td>\n      <td>13.258350</td>\n      <td>15.0</td>\n      <td>25.0</td>\n      <td>35.0</td>\n      <td>47.0</td>\n      <td>86.0</td>\n    </tr>\n    <tr>\n      <th>Other</th>\n      <td>3477.0</td>\n      <td>40.362381</td>\n      <td>12.754423</td>\n      <td>16.0</td>\n      <td>30.0</td>\n      <td>41.0</td>\n      <td>50.0</td>\n      <td>86.0</td>\n    </tr>\n    <tr>\n      <th>Registration/plates</th>\n      <td>2240.0</td>\n      <td>32.656696</td>\n      <td>11.150780</td>\n      <td>16.0</td>\n      <td>24.0</td>\n      <td>30.0</td>\n      <td>40.0</td>\n      <td>74.0</td>\n    </tr>\n    <tr>\n      <th>Seat belt</th>\n      <td>3.0</td>\n      <td>30.333333</td>\n      <td>10.214369</td>\n      <td>23.0</td>\n      <td>24.5</td>\n      <td>26.0</td>\n      <td>34.0</td>\n      <td>42.0</td>\n    </tr>\n    <tr>\n      <th>Speeding</th>\n      <td>37120.0</td>\n      <td>33.262581</td>\n      <td>12.615781</td>\n      <td>15.0</td>\n      <td>23.0</td>\n      <td>30.0</td>\n      <td>42.0</td>\n      <td>88.0</td>\n    </tr>\n  </tbody>\n</table>\n</div>"
          },
          "metadata": {}
        }
      ]
    },
    {
      "cell_type": "code",
      "source": "",
      "metadata": {},
      "execution_count": null,
      "outputs": []
    }
  ]
}